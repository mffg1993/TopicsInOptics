{
  "nbformat": 4,
  "nbformat_minor": 0,
  "metadata": {
    "colab": {
      "provenance": [],
      "authorship_tag": "ABX9TyMu31G/9L/RSk6bKSXFmUMG",
      "include_colab_link": true
    },
    "kernelspec": {
      "name": "python3",
      "display_name": "Python 3"
    },
    "language_info": {
      "name": "python"
    }
  },
  "cells": [
    {
      "cell_type": "markdown",
      "metadata": {
        "id": "view-in-github",
        "colab_type": "text"
      },
      "source": [
        "<a href=\"https://colab.research.google.com/github/mffg1993/TopicsInOptics/blob/main/StructuredLight/N3_Polarization.ipynb\" target=\"_parent\"><img src=\"https://colab.research.google.com/assets/colab-badge.svg\" alt=\"Open In Colab\"/></a>"
      ]
    },
    {
      "cell_type": "markdown",
      "source": [
        "\n",
        "## **3. Polarization of Light**\n",
        "\n",
        "### 3.1 What is polarization?\n",
        "\n",
        "**Polarization** describes the orientation and time evolution of the electric field vector.\n",
        "\n",
        "- **Linear polarization:** electric field oscillates along a fixed direction.\n",
        "- **Circular polarization:** electric field rotates with constant magnitude.\n",
        "- **Elliptical polarization:** general case; the tip of the electric field traces an ellipse.\n",
        "\n",
        "---\n",
        "\n",
        "### 3.2 Jones vector representation\n",
        "\n",
        "A polarization state can be written as a **Jones vector**:\n",
        "\n",
        "\\[\n",
        "\\mathbf{E} =\n",
        "\\begin{bmatrix}\n",
        "E_x \\\\\n",
        "E_y\n",
        "\\end{bmatrix}\n",
        "=\n",
        "\\begin{bmatrix}\n",
        "A_x e^{i\\phi_x} \\\\\n",
        "A_y e^{i\\phi_y}\n",
        "\\end{bmatrix}\n",
        "\\]\n",
        "\n",
        "Examples:\n",
        "- Horizontal: \\( \\begin{bmatrix} 1 \\\\ 0 \\end{bmatrix} \\)\n",
        "- Vertical: \\( \\begin{bmatrix} 0 \\\\ 1 \\end{bmatrix} \\)\n",
        "- Circular: \\( \\frac{1}{\\sqrt{2}} \\begin{bmatrix} 1 \\\\ i \\end{bmatrix} \\)\n",
        "\n",
        "---\n",
        "\n",
        "### 3.3 Visualizing polarization states\n",
        "\n",
        "We can visualize polarization by plotting the electric field vectors:\n",
        "- Linear polarization: all vectors point in the same direction.\n",
        "- Circular polarization: vectors rotate over time with constant magnitude.\n",
        "- Elliptical polarization: vectors trace ellipses.\n",
        "\n",
        "---\n",
        "\n",
        "### 3.4 Stoke Parameters\n",
        "\n",
        "### 3.5 Muller Matrices\n",
        "\n",
        "### 3.5 Poincare Sphere\n",
        "\n",
        "\n",
        "\n"
      ],
      "metadata": {
        "id": "QGFKfDzNyozc"
      }
    },
    {
      "cell_type": "code",
      "execution_count": null,
      "metadata": {
        "id": "zGOqtRXnyoG4"
      },
      "outputs": [],
      "source": []
    }
  ]
}