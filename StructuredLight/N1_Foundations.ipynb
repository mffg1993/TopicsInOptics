{
  "nbformat": 4,
  "nbformat_minor": 0,
  "metadata": {
    "colab": {
      "provenance": [],
      "authorship_tag": "ABX9TyMcqPK7ObwvpkgRyN6HarRq",
      "include_colab_link": true
    },
    "kernelspec": {
      "name": "python3",
      "display_name": "Python 3"
    },
    "language_info": {
      "name": "python"
    }
  },
  "cells": [
    {
      "cell_type": "markdown",
      "metadata": {
        "id": "view-in-github",
        "colab_type": "text"
      },
      "source": [
        "<a href=\"https://colab.research.google.com/github/mffg1993/TopicsInOptics/blob/main/StructuredLight/N1_Foundations.ipynb\" target=\"_parent\"><img src=\"https://colab.research.google.com/assets/colab-badge.svg\" alt=\"Open In Colab\"/></a>"
      ]
    },
    {
      "cell_type": "markdown",
      "source": [
        "# **Foundations – Spatial Modes & Polarization**\n",
        "\n"
      ],
      "metadata": {
        "id": "BuNaLn5mr4Lv"
      }
    },
    {
      "cell_type": "markdown",
      "source": [
        "\n",
        "## **1 Introduction: What is Structured Light?**\n",
        "\n",
        "Structured light refers to optical fields whose **amplitude**, **phase**, and/or **polarization** are intentionally controlled.  \n",
        "These degrees of freedom allow us to create beams with engineered properties and are fundamental to applications in:\n",
        "\n",
        "- Optical communications (e.g., orbital angular momentum multiplexing)\n",
        "- Quantum optics and quantum information\n",
        "- Microscopy and super-resolution imaging\n",
        "- Laser material processing and optical trapping\n",
        "\n",
        "### Examples of structured light:\n",
        "- A **Gaussian beam**: fundamental \"unstructured\" reference.\n",
        "- A **vortex beam**: with an azimuthal phase twist and a dark central core.\n",
        "- A **radially polarized beam**: whose polarization direction varies across the transverse plane.\n",
        "\n",
        "---\n",
        "\n"
      ],
      "metadata": {
        "id": "1MGRiQFsvbea"
      }
    },
    {
      "cell_type": "markdown",
      "source": [
        "\n",
        "### **1.1 General description of a monochromatic optical field**\n",
        "\n",
        "Any monochromatic light field can be written as:\n",
        "\n",
        "$$\n",
        "\\mathbf{E}(x,y,z,t) = A(x,y,z)\\, e^{i(\\phi(x,y,z) - \\omega t)} \\, \\hat{\\mathbf{e}}\n",
        "\\tag{1}\n",
        "$$\n",
        "\n",
        "where:\n",
        "- $ A(x,y,z) $ → **Amplitude** (controls the field intensity \\(I = |A|^2\\))\n",
        "- $ \\phi(x,y,z) $ → **Phase** (controls interference and spatial structure)\n",
        "- $ \\omega $ → angular frequency\n",
        "- $ \\hat{\\mathbf{e}} $ → unit vector representing the **polarization direction**\n",
        "\n",
        "**Where does Eq. (1) come from?**\n",
        "1. Maxwell's equations lead to the Helmholtz equation:\n",
        "   \\[\n",
        "   \\nabla^2 E + k^2 E = 0\n",
        "   \\]\n",
        "2. For a monochromatic wave, we assume harmonic time dependence:\n",
        "   \\[\n",
        "   E(x,y,z,t) = \\mathrm{Re} \\left[ \\tilde{E}(x,y,z) e^{-i\\omega t} \\right]\n",
        "   \\]\n",
        "3. We then separate amplitude and phase:\n",
        "   \\[\n",
        "   \\tilde{E}(x,y,z) = A(x,y,z) e^{i\\phi(x,y,z)}\n",
        "   \\]\n",
        "This results in the compact expression of Eq. (1).\n",
        "\n",
        "> **Key takeaway:**  \n",
        "> *Structured light is all about engineering the three elements of Eq. (1):  \n",
        "> amplitude, phase, and polarization.*\n",
        "\n",
        "---"
      ],
      "metadata": {
        "id": "CRtNRk5lvlCM"
      }
    },
    {
      "cell_type": "markdown",
      "source": [
        "\n",
        "## **2. Spatial Modes of Light**\n",
        "\n",
        "### 2.1 What is a spatial mode?\n",
        "\n",
        "A **spatial mode** describes how the light field is distributed in the transverse plane (intensity and phase).  \n",
        "\n",
        "- Modes are solutions to the **paraxial wave equation**:\n",
        "  \\[\n",
        "  \\left( \\nabla_T^2 - 2ik \\frac{\\partial}{\\partial z} \\right) \\tilde{E}(x,y,z) = 0\n",
        "  \\]\n",
        "- Analogous to \"eigenfunctions\" in a vibrating string:  \n",
        "  each spatial mode is a distinct solution with unique properties.\n",
        "\n",
        "---\n",
        "\n",
        "### 2.2 Gaussian beam – the fundamental mode\n",
        "\n",
        "The Gaussian beam is the simplest and most fundamental solution of the paraxial wave equation.  \n",
        "Its transverse profile at \\(z = 0\\) is:\n",
        "\n",
        "\\[\n",
        "\\tilde{E}(x,y,0) = E_0 \\exp\\left(- \\frac{r^2}{w_0^2} \\right)\n",
        "\\]\n",
        "\n",
        "and, in general:\n",
        "\n",
        "\\[\n",
        "\\tilde{E}(x,y,z) = E_0 \\frac{w_0}{w(z)}\n",
        "\\exp\\left( -\\frac{r^2}{w^2(z)} \\right)\n",
        "\\exp\\left( -ikz - i \\frac{k r^2}{2 R(z)} + i \\zeta(z) \\right)\n",
        "\\]\n",
        "\n",
        "where:\n",
        "- \\( r^2 = x^2 + y^2 \\)\n",
        "- \\( w_0 \\): **beam waist** (minimum spot size)\n",
        "- \\( w(z) = w_0 \\sqrt{1 + (z/z_R)^2} \\): spot size at \\(z\\)\n",
        "- \\( z_R = \\pi w_0^2 / \\lambda \\): **Rayleigh range**\n",
        "- \\( R(z) = z [1 + (z_R / z)^2] \\): radius of curvature of the wavefronts\n",
        "- \\( \\zeta(z) = \\tan^{-1}(z/z_R) \\): **Gouy phase**\n",
        "\n",
        "**Physical insights:**\n",
        "1. The beam **diverges** as it propagates: \\(w(z)\\) increases for \\( |z| > 0 \\).\n",
        "2. The wavefronts are planar at the focus (\\(z = 0\\)) and spherical elsewhere.\n",
        "3. The beam experiences an additional **Gouy phase shift** of \\(\\pi\\) across the waist.\n",
        "\n",
        "> **Visualization ideas (we will plot soon):**\n",
        "> - 2D intensity profile at \\(z = 0\\) (circular Gaussian spot).\n",
        "> - Evolution of the spot size \\(w(z)\\) with distance.\n",
        "> - 3D intensity plot to show beam divergence.\n",
        "\n",
        "---\n",
        "\n",
        "### 2.3 Higher-order modes (overview)\n",
        "\n",
        "Other solutions exist with more complex structures:\n",
        "\n",
        "1. **Hermite–Gaussian (HG)** modes:\n",
        "   \\[\n",
        "   \\tilde{E}_{mn}(x,y,z) = HG_m(x,z) HG_n(y,z)\n",
        "   \\]\n",
        "   (rectangular symmetry)\n",
        "\n",
        "2. **Laguerre–Gaussian (LG)** modes:\n",
        "   \\[\n",
        "   \\tilde{E}_{pl}(r,\\phi,z) = LG_p^l(r,z) e^{i l \\phi}\n",
        "   \\]\n",
        "   (cylindrical symmetry, orbital angular momentum with topological charge \\(l\\))\n",
        "\n",
        "**Key properties:**\n",
        "- Higher-order modes have phase singularities and structured intensity profiles.\n",
        "- LG beams carry orbital angular momentum (OAM) proportional to \\(l \\hbar\\) per photon.\n",
        "\n",
        "> We will visualize some examples of HG and LG modes in code.\n",
        "\n",
        "---\n"
      ],
      "metadata": {
        "id": "qZDIH4CSu71v"
      }
    },
    {
      "cell_type": "markdown",
      "source": [
        "\n"
      ],
      "metadata": {
        "id": "3KeyXECnvJ4_"
      }
    },
    {
      "cell_type": "markdown",
      "source": [
        "### 4. Exercises\n",
        "\n",
        "asdasd\n",
        "\n",
        "---\n",
        "\n",
        "### 5. References\n",
        "Any monochromatic light field can be written as:"
      ],
      "metadata": {
        "id": "T7zybstIt8EY"
      }
    }
  ]
}